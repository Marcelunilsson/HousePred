{
 "cells": [
  {
   "cell_type": "code",
   "execution_count": 1,
   "metadata": {},
   "outputs": [
    {
     "data": {
      "text/html": [
       "<style>.container { width:100% !important; }</style>"
      ],
      "text/plain": [
       "<IPython.core.display.HTML object>"
      ]
     },
     "metadata": {},
     "output_type": "display_data"
    }
   ],
   "source": [
    "import pandas as pd\n",
    "import numpy as np\n",
    "\n",
    "import sys; sys.path.insert(0, '..')\n",
    "from _Library import Data_PreProcessing as pre\n",
    "from _Library import Selection as sel\n",
    "\n",
    "from IPython.core.display import display, HTML\n",
    "display(HTML(\"<style>.container { width:100% !important; }</style>\"))\n",
    "pd.set_option('display.max_columns', None)\n",
    "pd.set_option('display.max_rows', None)"
   ]
  },
  {
   "cell_type": "code",
   "execution_count": 2,
   "metadata": {},
   "outputs": [],
   "source": [
    "df = pd.read_feather(\"../2_Feature Engineering/EngineeredData.feather\").set_index(\"id\")"
   ]
  },
  {
   "cell_type": "code",
   "execution_count": 3,
   "metadata": {},
   "outputs": [
    {
     "data": {
      "text/plain": [
       "(1109681, 110)"
      ]
     },
     "execution_count": 3,
     "metadata": {},
     "output_type": "execute_result"
    }
   ],
   "source": [
    "df.shape"
   ]
  },
  {
   "cell_type": "code",
   "execution_count": 4,
   "metadata": {},
   "outputs": [
    {
     "data": {
      "text/plain": [
       "Pris:A(kr):O                                 1.000000\n",
       "MedelPrisRum:A(kr):SdÅ                       0.768705\n",
       "MedelPrisRum:A(kr):Sd                        0.706582\n",
       "MedelPrisRum:A(kr):SÅ                        0.653113\n",
       "MedelPrisRum:A(kr):KÅ                        0.651398\n",
       "MedelPrisRum:A(kr):S                         0.607615\n",
       "MedelPrisRum:A(kr):K                         0.605929\n",
       "SnittslönMän:A(tkr/å):KÅ                     0.445400\n",
       "Snittslön:A(tkr/å):KÅ                        0.445381\n",
       "SnittslönKvinnor:A(tkr/å):KÅ                 0.433186\n",
       "UtbGym<=2År_procent                          0.393642\n",
       "MedelKvmPrisRum:A(kr):SÅ                     0.366065\n",
       "MedelKvmPrisRum:A(kr):KÅ                     0.364779\n",
       "MedelKvmPrisRum:A(kr):S                      0.359509\n",
       "MedelKvmPrisRum:A(kr):K                      0.357803\n",
       "UtbEfterGym>=3År:A(st):KÅ_procent            0.350278\n",
       "UtbFörGym<9År:A(st):KÅ_procent               0.328870\n",
       "SkattTotal:P:KÅ                              0.315074\n",
       "MedelKvmPrisRumLatLong2Deci:A(kr):Å          0.300491\n",
       "MedelKvmPrisRumLatLong0Deci:A(kr):Å          0.297979\n",
       "MedelKvmPrisRumLatLong2Deci:A(kr):           0.295347\n",
       "SkattKommun:P:KÅ                             0.290092\n",
       "MedelKvmPrisRumLatLong3Deci:A(kr):Å          0.286730\n",
       "MedelKvmPrisRumLatLong3Deci:A(kr):           0.282588\n",
       "KvmPris:A(kr):O                              0.278725\n",
       "UtbGym3År:A(st):KÅ_procent                   0.273250\n",
       "InvånareKm:A(st):KÅ                          0.272366\n",
       "MedelKvmPrisRum:A(kr):SdÅ                    0.270086\n",
       "MedelKvmPrisRumLatLong1Deci:A(kr):           0.269544\n",
       "MedelKvmPrisRumLatLong0Deci:A(kr):           0.267341\n",
       "MedelKvmPrisRumLatLong1Deci:A(kr):Å          0.264452\n",
       "Inflyttning:A(st):KÅ_procent                 0.259395\n",
       "MedelKvmPrisRum:A(kr):Sd                     0.258220\n",
       "MedelålderMän:A(st):KÅ                       0.256494\n",
       "Utvandring:A(st):KÅ_procent                  0.256084\n",
       "Utflyttning:A(st):KÅ_procent                 0.256084\n",
       "Medelålder:A(st):KÅ                          0.255726\n",
       "MedelålderKvinnor:A(st):KÅ                   0.252825\n",
       "UtbFörGym9År:A(st):KÅ_procent                0.239758\n",
       "UtbEfterGym<3År:A(st):KÅ_procent             0.239276\n",
       "Rum:A(st):O                                  0.235309\n",
       "Utflyttning:A(st):KÅ                         0.232519\n",
       "Utvandring:A(st):KÅ                          0.232519\n",
       "Inflyttning:A(st):KÅ                         0.231328\n",
       "UtbForskare:A(st):KÅ                         0.229258\n",
       "UtbEfterGym>=3År:A(st):KÅ                    0.228065\n",
       "UtbUppgSaknas:A(st):KÅ                       0.225730\n",
       "UtbUppgSaknas:A(st):KÅ_procent               0.221780\n",
       "FöddaIUtland:A(st):KÅ                        0.217678\n",
       "InvandringÖverskott:A(st):KÅ                 0.217129\n",
       "Invandring:A(st):KÅ                          0.216982\n",
       "UtbEfterGym<3År:A(st):KÅ                     0.216062\n",
       "UtbForskare:A(st):KÅ_procent                 0.214782\n",
       "AntalMän:A(st):KÅ                            0.212503\n",
       "AntalInvånare:A(st):KÅ                       0.212381\n",
       "AntalKvinnor:A(st):KÅ                        0.212251\n",
       "FöddaISverige:A(st):KÅ                       0.209617\n",
       "KrimNarkotika:A(st):KÅ                       0.209576\n",
       "UtbGym3År:A(st):KÅ                           0.205124\n",
       "UtbFörGym9År:A(st):KÅ                        0.199647\n",
       "KrimMisshandel:A(st):KÅ                      0.198219\n",
       "FlyttningÖverskott:A(st):KÅ                  0.194817\n",
       "InvånareKm:A(st):KÅ_procent                  0.189543\n",
       "UtbGym<=2År                                  0.180108\n",
       "KrimNarkotikaÖverlåtelse:A(st):KÅ            0.166674\n",
       "FöddaISverige:A(st):KÅ_procent               0.163942\n",
       "FöddaIUtland:A(st):KÅ_procent                0.163942\n",
       "Invandring:A(st):KÅ_procent                  0.162788\n",
       "SkattRegering:P:KÅ                           0.150955\n",
       "UtbFörGym<9År:A(st):KÅ                       0.147988\n",
       "PenningMängdM1:A(mkr):LM                     0.136490\n",
       "PenningMängdM2:A(mkr):LM                     0.135179\n",
       "År:N:Å                                       0.131851\n",
       "AntalKvinnor:A(st):KÅ_procent                0.129086\n",
       "AntalMän:A(st):KÅ_procent                    0.129086\n",
       "Snittslön:A(kr/m):LÅ                         0.127781\n",
       "OMXIndex:N:LD                                0.123600\n",
       "KPI:N:LÅ                                     0.120941\n",
       "Arbetslöshet:P:L                             0.112589\n",
       "FlyttningÖverskott:A(st):KÅ_procent          0.097773\n",
       "RepoRänta:P:LD                               0.092088\n",
       "Long1Deci:N:O                                0.077256\n",
       "Long4Deci:N:O                                0.077123\n",
       "Long5Deci:N:O                                0.077123\n",
       "Long:N:O                                     0.077123\n",
       "Long3Deci:N:O                                0.077123\n",
       "Long2Deci:N:O                                0.077122\n",
       "Lat0Deci:N:O                                 0.072974\n",
       "Long0Deci:N:O                                0.072535\n",
       "KrimNarkotika:A(st):KÅ_procent               0.063303\n",
       "KrimMisshandel:A(st):KÅ_procent              0.053938\n",
       "KrimNarkotikaÖverlåtelse:A(st):KÅ_procent    0.052849\n",
       "GDP:A(Giga$):LÅ                              0.052531\n",
       "Lat1Deci:N:O                                 0.050842\n",
       "Lat2Deci:N:O                                 0.050294\n",
       "Lat3Deci:N:O                                 0.050290\n",
       "Lat4Deci:N:O                                 0.050290\n",
       "Lat5Deci:N:O                                 0.050290\n",
       "Lat:N:O                                      0.050290\n",
       "InvandringÖverskott:A(st):KÅ_procent         0.039537\n",
       "KvmTomt:A(st):O                              0.004719\n",
       "Månad:N:M                                    0.004386\n",
       "Kvm:A(st):O                                  0.001274\n",
       "Name: Pris:A(kr):O, dtype: float64"
      ]
     },
     "execution_count": 4,
     "metadata": {},
     "output_type": "execute_result"
    }
   ],
   "source": [
    "abs(df.corr()[\"Pris:A(kr):O\"]).sort_values(ascending = False)"
   ]
  },
  {
   "cell_type": "code",
   "execution_count": 5,
   "metadata": {},
   "outputs": [],
   "source": [
    "df = sel.Data_Selection(df)"
   ]
  },
  {
   "cell_type": "code",
   "execution_count": 6,
   "metadata": {},
   "outputs": [],
   "source": [
    "df = pre.Inter_Quartile_Range_Split(df)"
   ]
  },
  {
   "cell_type": "code",
   "execution_count": 7,
   "metadata": {},
   "outputs": [
    {
     "name": "stdout",
     "output_type": "stream",
     "text": [
      "X.shape: (150330, 64) \n",
      "y.shape: (150330,) \n",
      "No diff between X.shape and y.shape: True\n"
     ]
    }
   ],
   "source": [
    "X, y = sel.Defining_X_and_Y(df)"
   ]
  },
  {
   "cell_type": "code",
   "execution_count": 8,
   "metadata": {},
   "outputs": [],
   "source": [
    "y.reset_index().to_feather(\"y.feather\")\n",
    "X.reset_index().to_feather(\"X.feather\")"
   ]
  }
 ],
 "metadata": {
  "kernelspec": {
   "display_name": "Python 3",
   "language": "python",
   "name": "python3"
  },
  "language_info": {
   "codemirror_mode": {
    "name": "ipython",
    "version": 3
   },
   "file_extension": ".py",
   "mimetype": "text/x-python",
   "name": "python",
   "nbconvert_exporter": "python",
   "pygments_lexer": "ipython3",
   "version": "3.8.3"
  },
  "toc": {
   "base_numbering": 1,
   "nav_menu": {},
   "number_sections": true,
   "sideBar": true,
   "skip_h1_title": false,
   "title_cell": "Table of Contents",
   "title_sidebar": "Contents",
   "toc_cell": false,
   "toc_position": {},
   "toc_section_display": true,
   "toc_window_display": false
  }
 },
 "nbformat": 4,
 "nbformat_minor": 2
}
