{
 "cells": [
  {
   "cell_type": "code",
   "execution_count": 66,
   "metadata": {},
   "outputs": [
    {
     "data": {
      "text/html": [
       "<style>.container { width:100% !important; }</style>"
      ],
      "text/plain": [
       "<IPython.core.display.HTML object>"
      ]
     },
     "metadata": {},
     "output_type": "display_data"
    }
   ],
   "source": [
    "import pandas as pd\n",
    "import numpy as np\n",
    "import matplotlib.pyplot as plt\n",
    "import seaborn as sns\n",
    "\n",
    "from timeit import default_timer as ti\n",
    "\n",
    "from IPython.core.display import display, HTML\n",
    "display(HTML(\"<style>.container { width:100% !important; }</style>\"))\n",
    "pd.options.display.max_rows = 999\n",
    "pd.options.display.max_columns = 999"
   ]
  },
  {
   "cell_type": "code",
   "execution_count": 67,
   "metadata": {},
   "outputs": [],
   "source": [
    "#Load Data set\n",
    "df = pd.read_feather('../_Datasets/dataset.feather').set_index(\"id\")"
   ]
  },
  {
   "cell_type": "markdown",
   "metadata": {},
   "source": [
    "## Ej tillagda kolumner\n",
    "address, address_number, day, object_original_info"
   ]
  },
  {
   "cell_type": "code",
   "execution_count": 68,
   "metadata": {},
   "outputs": [],
   "source": [
    "# Removing NaN and Unknown values\n",
    "df['rooms'] = df['rooms'].fillna(0)\n",
    "df['rooms'] = df['rooms'].str.replace('Unknown','NaN', regex=True)\n",
    "df['rooms'] = df['rooms'].astype(np.float32)\n",
    "df['rooms'] = df['rooms'].fillna(int(df['rooms'].mean()))"
   ]
  },
  {
   "cell_type": "code",
   "execution_count": 69,
   "metadata": {},
   "outputs": [],
   "source": [
    "# Also removing strange values\n",
    "df = df[(df['rooms'].apply(lambda x: len(str(x))) < 4) & (df['rooms'] < 20)]"
   ]
  },
  {
   "cell_type": "code",
   "execution_count": 70,
   "metadata": {},
   "outputs": [],
   "source": [
    "#df.isnull().sum()"
   ]
  },
  {
   "cell_type": "code",
   "execution_count": 71,
   "metadata": {},
   "outputs": [],
   "source": [
    "#df[df == \"Unknown\"].count()"
   ]
  },
  {
   "cell_type": "code",
   "execution_count": 72,
   "metadata": {},
   "outputs": [],
   "source": [
    "# sum up all the unknowns in the dataset, if there are any a list will be printed to see where\n",
    "df = df[df[\"price\"] != \"Unknown\"]\n",
    "df = df[df[\"square_metres\"] != \"Unknown\"]\n",
    "df = df.drop(\"price_per_metre\", axis=1)\n",
    "df = df.drop(\"price_difference\", axis=1)\n",
    "df = df.drop(\"area_extra\", axis=1)\n"
   ]
  },
  {
   "cell_type": "code",
   "execution_count": 73,
   "metadata": {},
   "outputs": [],
   "source": [
    "#Create new formatted data frame\n",
    "df2 = pd.DataFrame()\n",
    "df2[\"Objekttyp:S:O\"] = df[\"object_type\"]\n",
    "df2[\"Gata:S:G\"] = df[\"address_name\"]\n",
    "df2[\"Stadsdel:S:Sd\"] = df[\"city_part\"]\n",
    "df2[\"Stad:S:S\"] = df[\"city\"]\n",
    "df2[\"Kommun:S:K\"] = df[\"municipality\"]\n",
    "df2[\"Landskap:S:Ls\"] = df[\"county\"]\n",
    "df2[\"Rum:A(st):O\"] = df[\"rooms\"].astype(np.float32)\n",
    "df2[\"Kvm:A(st):O\"] = df[\"square_metres\"].astype(np.float32)\n",
    "df2[\"Pris:A(kr):O\"] = df[\"price\"].astype(np.float32)\n",
    "df2[\"KvmPris:A(kr):O\"] = df[\"price\"].astype(np.float32) / df[\"square_metres\"].astype(np.float32)\n",
    "df2[\"Månad:N:M\"] = df[\"month\"].astype(np.float32)\n",
    "df2[\"År:N:Å\"] = df[\"year\"].astype(np.float32)\n",
    "df2[\"Lat:N:O\"] = df[\"latitude\"].astype(np.float32)\n",
    "df2[\"Long:N:O\"] = df[\"longitude\"].astype(np.float32)\n",
    "df2[\"Arbetslöshet:P:L\"] = df[\"unemployment_swe\"].astype(np.float32)\n",
    "df2[\"SkattTotal:P:KÅ\"] = df[\"skatt_total_kommun\"].astype(np.float32)\n",
    "df2[\"SkattRegering:P:KÅ\"] = df[\"skatt_till_reg\"].astype(np.float32)\n",
    "df2[\"SkattKommun:P:KÅ\"] = df[\"skatt_till_kommun\"].astype(np.float32)\n",
    "df2[\"Snittslön:A(kr/m):LÅ\"] = df[\"average_salary_swe\"].astype(np.float32)\n",
    "df2[\"SnittslönMän:A(tkr/å):KÅ\"] = df[\"average_salary_county_men\"].astype(np.float32)\n",
    "df2[\"SnittslönKvinnor:A(tkr/å):KÅ\"] = df[\"average_salary_county_women\"].astype(np.float32)\n",
    "df2[\"Snittslön:A(tkr/å):KÅ\"] = df[\"average_salary_county\"].astype(np.float32)\n",
    "df2[\"UtbFörGym<9År:A(st):KÅ\"] = df[\"utbildning_förgymnasial_kortare_än_9_år\"].astype(np.float32)\n",
    "df2[\"UtbFörGym9År:A(st):KÅ\"] = df[\"utbildning_förgymnasial_9_år\"].astype(np.float32)\n",
    "df2[\"UtbGym<=2År\"] = df[\"utbildning_gymnasial_högst_2_år\"].astype(np.float32)\n",
    "df2[\"UtbGym3År:A(st):KÅ\"] = df[\"utbildning_gymnasial_3_år\"].astype(np.float32)\n",
    "df2[\"UtbEfterGym<3År:A(st):KÅ\"] = df[\"utbildning_eftergymnasial_mindre_än_3_år\"].astype(np.float32)\n",
    "df2[\"UtbEfterGym>=3År:A(st):KÅ\"] = df[\"utbildning_eftergymnasial_3_år_eller_mer\"].astype(np.float32)\n",
    "df2[\"UtbForskare:A(st):KÅ\"] = df[\"utbildning_forskare\"].astype(np.float32)\n",
    "df2[\"UtbUppgSaknas:A(st):KÅ\"] = df[\"utbildning_uppgift_om_nivå_saknas\"].astype(np.float32)\n",
    "df2[\"Inflyttning:A(st):KÅ\"] = df[\"inflyttningar\"].astype(np.float32)\n",
    "df2[\"Utflyttning:A(st):KÅ\"] = df[\"utflyttningar\"].astype(np.float32)\n",
    "df2[\"Invandring:A(st):KÅ\"] = df[\"invandringar\"].astype(np.float32)\n",
    "df2[\"Utvandring:A(st):KÅ\"] = df[\"utflyttningar\"].astype(np.float32)\n",
    "df2[\"FlyttningÖverskott:A(st):KÅ\"] = df[\"flyttningsöverskott\"].astype(np.float32)\n",
    "df2[\"InvandringÖverskott:A(st):KÅ\"] = df[\"invandringsöverskott\"].astype(np.float32)\n",
    "df2[\"InvandringÖverskott:A(st):KÅ\"] = df[\"invandringsöverskott\"].astype(np.float32)\n",
    "df2[\"FöddaISverige:A(st):KÅ\"] = df[\"född_i_sverige\"].astype(np.float32)\n",
    "df2[\"FöddaIUtland:A(st):KÅ\"] = df[\"utrikes_född\"].astype(np.float32)\n",
    "df2[\"AntalMän:A(st):KÅ\"] = df[\"antal_män\"].astype(np.float32)\n",
    "df2[\"AntalKvinnor:A(st):KÅ\"] = df[\"antal_kvinnor\"].astype(np.float32)\n",
    "df2[\"InvånareKm:A(st):KÅ\"] = df[\"invånare_per_km\"].astype(np.float32)\n",
    "df2[\"MedelålderMän:A(st):KÅ\"] = df[\"average_age_by_gender_men\"].astype(np.float32)\n",
    "df2[\"MedelålderKvinnor:A(st):KÅ\"] = df[\"average_age_by_gender_women\"].astype(np.float32)\n",
    "df2[\"Medelålder:A(st):KÅ\"] = df[\"average_age_by_gender_total\"].astype(np.float32)\n",
    "df2[\"KrimMisshandel:A(st):KÅ\"] = df[\"brå_misshandel\"].astype(np.float32)\n",
    "df2[\"KrimNarkotika:A(st):KÅ\"] = df[\"brå_narkotika\"].astype(np.float32)\n",
    "df2[\"KrimNarkotikaÖverlåtelse:A(st):KÅ\"] = df[\"brå_narkotika_överlåtelse\"].astype(np.float32)\n",
    "df2[\"KvmTomt:A(st):O\"] = df[\"area_plot\"].astype(np.float32)\n",
    "df2[\"HarTomt:B:O\"] = df[\"has_area_plot\"].apply(str)\n",
    "df2[\"GDP:A(Giga$):LÅ\"] = df[\"gdp\"].astype(np.float32)\n",
    "df2[\"OMXIndex:N:LD\"] = df[\"omx_index\"].astype(np.float32)\n",
    "df2[\"RepoRänta:P:LD\"] = df[\"repo\"].astype(np.float32)\n",
    "df2[\"KPI:N:LÅ\"] = df[\"kpi\"].astype(np.float32)\n",
    "df2[\"PenningMängdM1:A(mkr):LM\"] = df[\"monetary_mkr_per_m1\"].astype(np.float32)\n",
    "df2[\"PenningMängdM2:A(mkr):LM\"] = df[\"monetary_mkr_per_m2\"].astype(np.float32)\n",
    "#df2[\"BiArea:A(Kvm):O\"] = df[\"area_extra\"].astype(np.float32)\n",
    "#df2[\"SkillnadUtropspris:A(kr):O\"] = df[\"price_difference\"].astype(np.float32)\n"
   ]
  },
  {
   "cell_type": "code",
   "execution_count": 10,
   "metadata": {},
   "outputs": [
    {
     "data": {
      "text/plain": [
       "(1109681, 58)"
      ]
     },
     "execution_count": 10,
     "metadata": {},
     "output_type": "execute_result"
    }
   ],
   "source": [
    "df.shape"
   ]
  },
  {
   "cell_type": "code",
   "execution_count": 11,
   "metadata": {},
   "outputs": [],
   "source": [
    "# Save The formated dataframe\n",
    "df2.reset_index().to_feather(\"CleanedData.feather\")"
   ]
  }
 ],
 "metadata": {
  "kernelspec": {
   "display_name": "Python 3",
   "language": "python",
   "name": "python3"
  },
  "language_info": {
   "codemirror_mode": {
    "name": "ipython",
    "version": 3
   },
   "file_extension": ".py",
   "mimetype": "text/x-python",
   "name": "python",
   "nbconvert_exporter": "python",
   "pygments_lexer": "ipython3",
   "version": "3.8.3"
  },
  "toc": {
   "base_numbering": 1,
   "nav_menu": {},
   "number_sections": true,
   "sideBar": true,
   "skip_h1_title": false,
   "title_cell": "Table of Contents",
   "title_sidebar": "Contents",
   "toc_cell": false,
   "toc_position": {},
   "toc_section_display": true,
   "toc_window_display": false
  }
 },
 "nbformat": 4,
 "nbformat_minor": 2
}
