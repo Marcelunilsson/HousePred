{
 "cells": [
  {
   "cell_type": "code",
   "execution_count": 1,
   "metadata": {},
   "outputs": [
    {
     "data": {
      "text/html": [
       "<style>.container { width:100% !important; }</style>"
      ],
      "text/plain": [
       "<IPython.core.display.HTML object>"
      ]
     },
     "metadata": {},
     "output_type": "display_data"
    },
    {
     "data": {
      "text/html": [
       "        <script type=\"text/javascript\">\n",
       "        window.PlotlyConfig = {MathJaxConfig: 'local'};\n",
       "        if (window.MathJax) {MathJax.Hub.Config({SVG: {font: \"STIX-Web\"}});}\n",
       "        if (typeof require !== 'undefined') {\n",
       "        require.undef(\"plotly\");\n",
       "        requirejs.config({\n",
       "            paths: {\n",
       "                'plotly': ['https://cdn.plot.ly/plotly-latest.min']\n",
       "            }\n",
       "        });\n",
       "        require(['plotly'], function(Plotly) {\n",
       "            window._Plotly = Plotly;\n",
       "        });\n",
       "        }\n",
       "        </script>\n",
       "        "
      ]
     },
     "metadata": {},
     "output_type": "display_data"
    },
    {
     "data": {
      "text/html": [
       "        <script type=\"text/javascript\">\n",
       "        window.PlotlyConfig = {MathJaxConfig: 'local'};\n",
       "        if (window.MathJax) {MathJax.Hub.Config({SVG: {font: \"STIX-Web\"}});}\n",
       "        if (typeof require !== 'undefined') {\n",
       "        require.undef(\"plotly\");\n",
       "        requirejs.config({\n",
       "            paths: {\n",
       "                'plotly': ['https://cdn.plot.ly/plotly-latest.min']\n",
       "            }\n",
       "        });\n",
       "        require(['plotly'], function(Plotly) {\n",
       "            window._Plotly = Plotly;\n",
       "        });\n",
       "        }\n",
       "        </script>\n",
       "        "
      ]
     },
     "metadata": {},
     "output_type": "display_data"
    }
   ],
   "source": [
    "import pandas as pd\n",
    "import numpy as np\n",
    "import matplotlib.pyplot as plt\n",
    "import matplotlib.image as mpimg\n",
    "import seaborn as sns\n",
    "\n",
    "import tensorflow as tf\n",
    "%matplotlib inline\n",
    "from IPython.core.display import display, HTML\n",
    "display(HTML(\"<style>.container { width:100% !important; }</style>\"))\n",
    "\n",
    "from plotly.offline import download_plotlyjs, init_notebook_mode, plot, iplot\n",
    "import plotly.express as px\n",
    "\n",
    "import cufflinks as cf\n",
    "# For Notebooks\n",
    "init_notebook_mode(connected=True)\n",
    "# For offline use\n",
    "cf.go_offline()\n",
    "\n",
    "from timeit import default_timer as ti"
   ]
  },
  {
   "cell_type": "code",
   "execution_count": 18,
   "metadata": {},
   "outputs": [],
   "source": [
    "df = pd.read_feather(\"../Feature Engineering/EngineeredData.feather\").set_index(\"id\")"
   ]
  },
  {
   "cell_type": "code",
   "execution_count": 37,
   "metadata": {},
   "outputs": [
    {
     "data": {
      "text/plain": [
       "Index(['Objekttyp:S:O', 'Gata:S:G', 'Stadsdel:S:Sd', 'Stad:S:S', 'Kommun:S:K',\n",
       "       'Landskap:S:Ls', 'Rum:A(st):O', 'Kvm:A(st):O', 'Pris:A(kr):O',\n",
       "       'KvmPris:A(kr):O', 'Månad:N:M', 'År:N:Å', 'Lat:N:O', 'Long:N:O',\n",
       "       'Arbetslöshet:P:L', 'SkattTotal:P:KÅ', 'SkattRegering:P:KÅ',\n",
       "       'SkattKommun:P:KÅ', 'Snittslön:A(kr/m):LÅ', 'SnittslönMän:A(tkr/å):KÅ',\n",
       "       'SnittslönKvinnor:A(tkr/å):KÅ', 'Snittslön:A(tkr/å):KÅ',\n",
       "       'UtbFörGym<9År:A(st):KÅ', 'UtbFörGym9År:A(st):KÅ', 'UtbGym<=2År',\n",
       "       'UtbGym3År:A(st):KÅ', 'UtbEfterGym<3År:A(st):KÅ',\n",
       "       'UtbEfterGym>=3År:A(st):KÅ', 'UtbForskare:A(st):KÅ',\n",
       "       'UtbUppgSaknas:A(st):KÅ', 'Inflyttning:A(st):KÅ',\n",
       "       'Utflyttning:A(st):KÅ', 'Invandring:A(st):KÅ', 'Utvandring:A(st):KÅ',\n",
       "       'FlyttningÖverskott:A(st):KÅ', 'InvandringÖverskott:A(st):KÅ',\n",
       "       'FöddaISverige:A(st):KÅ', 'FöddaIUtland:A(st):KÅ', 'AntalMän:A(st):KÅ',\n",
       "       'AntalKvinnor:A(st):KÅ', 'InvånareKm:A(st):KÅ',\n",
       "       'MedelålderMän:A(st):KÅ', 'MedelålderKvinnor:A(st):KÅ',\n",
       "       'Medelålder:A(st):KÅ', 'KrimMisshandel:A(st):KÅ',\n",
       "       'KrimNarkotika:A(st):KÅ', 'KrimNarkotikaÖverlåtelse:A(st):KÅ',\n",
       "       'KvmTomt:A(st):O', 'HarTomt:B:O', 'GDP:A(Giga$):LÅ', 'OMXIndex:N:LD',\n",
       "       'RepoRänta:P:LD', 'KPI:N:LÅ', 'PenningMängdM1:A(mkr):LM',\n",
       "       'PenningMängdM2:A(mkr):LM', 'Lat5Deci:N:O', 'Lat4Deci:N:O',\n",
       "       'Lat3Deci:N:O', 'Lat2Deci:N:O', 'Lat1Deci:N:O', 'Lat0Deci:N:O',\n",
       "       'Long5Deci:N:O', 'Long4Deci:N:O', 'Long3Deci:N:O', 'Long2Deci:N:O',\n",
       "       'Long1Deci:N:O', 'Long0Deci:N:O', 'AntalInvånare:A(st):KÅ',\n",
       "       'UtbFörGym<9År:A(st):KÅ_procent', 'UtbFörGym9År:A(st):KÅ_procent',\n",
       "       'UtbGym<=2År_procent', 'UtbGym3År:A(st):KÅ_procent',\n",
       "       'UtbEfterGym<3År:A(st):KÅ_procent', 'UtbEfterGym>=3År:A(st):KÅ_procent',\n",
       "       'UtbForskare:A(st):KÅ_procent', 'UtbUppgSaknas:A(st):KÅ_procent',\n",
       "       'Inflyttning:A(st):KÅ_procent', 'Utflyttning:A(st):KÅ_procent',\n",
       "       'Invandring:A(st):KÅ_procent', 'Utvandring:A(st):KÅ_procent',\n",
       "       'FlyttningÖverskott:A(st):KÅ_procent',\n",
       "       'InvandringÖverskott:A(st):KÅ_procent',\n",
       "       'FöddaISverige:A(st):KÅ_procent', 'FöddaIUtland:A(st):KÅ_procent',\n",
       "       'AntalMän:A(st):KÅ_procent', 'AntalKvinnor:A(st):KÅ_procent',\n",
       "       'InvånareKm:A(st):KÅ_procent', 'KrimMisshandel:A(st):KÅ_procent',\n",
       "       'KrimNarkotika:A(st):KÅ_procent',\n",
       "       'KrimNarkotikaÖverlåtelse:A(st):KÅ_procent',\n",
       "       'MedelKvmPrisRumLatLong0Deci:A(kr):',\n",
       "       'MedelKvmPrisRumLatLong1Deci:A(kr):',\n",
       "       'MedelKvmPrisRumLatLong2Deci:A(kr):',\n",
       "       'MedelKvmPrisRumLatLong3Deci:A(kr):'],\n",
       "      dtype='object')"
      ]
     },
     "execution_count": 37,
     "metadata": {},
     "output_type": "execute_result"
    }
   ],
   "source": [
    "df.columns"
   ]
  },
  {
   "cell_type": "code",
   "execution_count": 19,
   "metadata": {},
   "outputs": [],
   "source": [
    "narrowDataMunicipalities = np.array(['stockholm', 'Göteborg', 'Malmö']) \n",
    "df = df[df[\"Kommun:S:K\"].isin(narrowDataMunicipalities)]"
   ]
  },
  {
   "cell_type": "code",
   "execution_count": 20,
   "metadata": {},
   "outputs": [],
   "source": [
    "narrowDataType = np.array(['Lägenhet'])\n",
    "df = df[df[\"Objekttyp:S:O\"].isin(narrowDataType)]"
   ]
  },
  {
   "cell_type": "code",
   "execution_count": 21,
   "metadata": {},
   "outputs": [],
   "source": [
    "df.reset_index().to_feather(\"featureTest.feather\")"
   ]
  },
  {
   "cell_type": "code",
   "execution_count": 22,
   "metadata": {},
   "outputs": [],
   "source": [
    "#Mean from two categories\n",
    "def mean2(df, cat1, cat2, meanCat):\n",
    "    nestedDict = {c1:{c2:df[(df[cat1] == c1) & (df[cat2]==c2)][meanCat].mean() \n",
    "                      for c2 in df[df[cat1] == c1][cat2].unique()} \n",
    "                  for c1 in df[cat1].unique()}\n",
    "    return df[[cat1, cat2, meanCat]].apply(lambda row: nestedDict[row[cat1]][row[cat2]], axis = 1) "
   ]
  },
  {
   "cell_type": "code",
   "execution_count": 31,
   "metadata": {},
   "outputs": [],
   "source": [
    "#Mean from tree categories\n",
    "def mean3(df, cat1, cat2, cat3, meanCat):\n",
    "    nestedDict = {c1:{c2:{c3:df[(df[cat1] == c1) & (df[cat2]==c2) & (df[cat3] == c3)][meanCat].mean() \n",
    "                          for c3 in df[(df[cat1] == c1) & (df[cat2]==c2)][cat3].unique()}\n",
    "                      for c2 in df[df[cat1] == c1][cat2].unique()}\n",
    "                  for c1 in df[cat1].unique()}\n",
    "    return df[[cat1, cat2, cat3, meanCat]].apply(lambda row: nestedDict[row[cat1]][row[cat2]][row[cat3]], axis = 1) "
   ]
  },
  {
   "cell_type": "code",
   "execution_count": 48,
   "metadata": {},
   "outputs": [],
   "source": [
    "#Mean from four categories\n",
    "def mean4(df, cat1, cat2, cat3, cat4, meanCat):\n",
    "    nestedDict = {c1:{c2:{c3:{c4:df[(df[cat1] == c1) & (df[cat2]==c2) & (df[cat3] == c3) & (df[cat4]==c4)][meanCat].mean() \n",
    "                              for c4 in df[(df[cat1] == c1) & (df[cat2]==c2) & (df[cat3]==c3)][cat4].unique()}\n",
    "                          for c3 in df[(df[cat1] == c1) & (df[cat2]==c2)][cat3].unique()}\n",
    "                      for c2 in df[df[cat1] == c1][cat2].unique()}\n",
    "                  for c1 in df[cat1].unique()}\n",
    "    return df[[cat1, cat2, cat3, cat4, meanCat]].apply(lambda row: nestedDict[row[cat1]][row[cat2]][row[cat3]][row[cat4]], axis = 1)"
   ]
  },
  {
   "cell_type": "code",
   "execution_count": 38,
   "metadata": {},
   "outputs": [
    {
     "name": "stdout",
     "output_type": "stream",
     "text": [
      "214.6837032000003\n"
     ]
    }
   ],
   "source": [
    "df = pd.read_feather(\"featureTest.feather\").set_index(\"id\")\n",
    "\n",
    "\n",
    "\n",
    "df.reset_index().to_feather(\"featureTest.feather\")"
   ]
  },
  {
   "cell_type": "code",
   "execution_count": 39,
   "metadata": {},
   "outputs": [
    {
     "name": "stdout",
     "output_type": "stream",
     "text": [
      "7.213212399999975\n"
     ]
    }
   ],
   "source": [
    "df = pd.read_feather(\"featureTest.feather\").set_index(\"id\")\n",
    "\n",
    "\n",
    "\n",
    "df.reset_index().to_feather(\"featureTest.feather\")"
   ]
  },
  {
   "cell_type": "code",
   "execution_count": null,
   "metadata": {},
   "outputs": [],
   "source": [
    "fig = px.histogram(data_frame = df[df[\"KvmPris:A(kr):O\"] < 0.3*10**6], x = \"KvmPris:A(kr):O\",opacity=0.4)\n",
    "fig.show()"
   ]
  },
  {
   "cell_type": "code",
   "execution_count": null,
   "metadata": {},
   "outputs": [],
   "source": [
    "plt.figure(figsize=(12, 10))\n",
    "fig = px.scatter_3d(df[df[\"KvmPris:A(kr):O\"] < .6*10**5],\n",
    "                  x = \"Long:N:O\",\n",
    "                  y = \"Lat:N:O\",\n",
    "                  z = 'Pris:A(kr):O',\n",
    "                  color='År:N:Å',\n",
    "                  opacity=True,\n",
    "                  size = \"KvmPris:A(kr):O\" ,\n",
    "                  hover_name=\"Stadsdel:S:Sd\"\n",
    "                 )\n",
    "fig.update_traces(marker=dict(\n",
    "                              line=dict(width=0,\n",
    "                                        color='DarkSlateGrey')),\n",
    "                  selector=dict(mode='markers'))\n",
    "fig.show()"
   ]
  },
  {
   "cell_type": "code",
   "execution_count": null,
   "metadata": {},
   "outputs": [],
   "source": [
    "plt.figure(figsize=(12, 10))\n",
    "px.scatter(x = 'Long3Deci:N:O', y = 'Lat3Deci:N:O', data_frame = df[(df[\"Kommun:S:K\"] == \"Malmö\") & (df[\"Pris:A(kr):O\"] < 4*10**6)], color = \"Pris:A(kr):O\", hover_name=\"Stadsdel:S:Sd\")"
   ]
  },
  {
   "cell_type": "code",
   "execution_count": null,
   "metadata": {},
   "outputs": [],
   "source": []
  }
 ],
 "metadata": {
  "kernelspec": {
   "display_name": "Python 3",
   "language": "python",
   "name": "python3"
  },
  "language_info": {
   "codemirror_mode": {
    "name": "ipython",
    "version": 3
   },
   "file_extension": ".py",
   "mimetype": "text/x-python",
   "name": "python",
   "nbconvert_exporter": "python",
   "pygments_lexer": "ipython3",
   "version": "3.7.4"
  }
 },
 "nbformat": 4,
 "nbformat_minor": 2
}
