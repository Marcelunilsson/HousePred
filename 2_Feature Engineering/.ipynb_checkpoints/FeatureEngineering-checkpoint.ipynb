{
 "cells": [
  {
   "cell_type": "code",
   "execution_count": 1,
   "metadata": {},
   "outputs": [
    {
     "data": {
      "text/html": [
       "<style>.container { width:100% !important; }</style>"
      ],
      "text/plain": [
       "<IPython.core.display.HTML object>"
      ]
     },
     "metadata": {},
     "output_type": "display_data"
    }
   ],
   "source": [
    "import pandas as pd\n",
    "import numpy as np\n",
    "import matplotlib.pyplot as plt\n",
    "import matplotlib.image as mpimg\n",
    "import seaborn as sns\n",
    "\n",
    "import sys; sys.path.insert(0, '..')\n",
    "from _Library import Data_PreProcessing as pre\n",
    "\n",
    "from timeit import default_timer as ti\n",
    "\n",
    "from IPython.core.display import display, HTML\n",
    "display(HTML(\"<style>.container { width:100% !important; }</style>\"))"
   ]
  },
  {
   "cell_type": "code",
   "execution_count": 2,
   "metadata": {},
   "outputs": [],
   "source": [
    "# Read The formated dataframe\n",
    "df = pd.read_feather(\"../1_CleanData/CleanedData.feather\").set_index(\"id\")"
   ]
  },
  {
   "cell_type": "code",
   "execution_count": 3,
   "metadata": {},
   "outputs": [],
   "source": [
    "#Mean from two categories\n",
    "def mean2(df, cat1, cat2, meanCat):\n",
    "    nestedDict = {c1:{c2:df[(df[cat1] == c1) & (df[cat2]==c2)][meanCat].mean() \n",
    "                      for c2 in df[df[cat1] == c1][cat2].unique()} \n",
    "                  for c1 in df[cat1].unique()}\n",
    "    return df[[cat1, cat2, meanCat]].apply(lambda row: nestedDict[row[cat1]][row[cat2]], axis = 1) "
   ]
  },
  {
   "cell_type": "code",
   "execution_count": 4,
   "metadata": {},
   "outputs": [],
   "source": [
    "#Mean from tree categories\n",
    "def mean3(df, cat1, cat2, cat3, meanCat):\n",
    "    nestedDict = {c1:{c2:{c3:df[(df[cat1] == c1) & (df[cat2]==c2) & (df[cat3] == c3)][meanCat].mean() \n",
    "                          for c3 in df[(df[cat1] == c1) & (df[cat2]==c2)][cat3].unique()}\n",
    "                      for c2 in df[df[cat1] == c1][cat2].unique()}\n",
    "                  for c1 in df[cat1].unique()}\n",
    "    return df[[cat1, cat2, cat3, meanCat]].apply(lambda row: nestedDict[row[cat1]][row[cat2]][row[cat3]], axis = 1) "
   ]
  },
  {
   "cell_type": "code",
   "execution_count": 5,
   "metadata": {},
   "outputs": [],
   "source": [
    "#Mean from four categories\n",
    "def mean4(df, cat1, cat2, cat3, cat4, meanCat):\n",
    "    nestedDict = {c1:{c2:{c3:{c4:df[(df[cat1] == c1) & (df[cat2]==c2) & (df[cat3] == c3) & (df[cat4]==c4)][meanCat].mean() \n",
    "                              for c4 in df[(df[cat1] == c1) & (df[cat2]==c2) & (df[cat3]==c3)][cat4].unique()}\n",
    "                          for c3 in df[(df[cat1] == c1) & (df[cat2]==c2)][cat3].unique()}\n",
    "                      for c2 in df[df[cat1] == c1][cat2].unique()}\n",
    "                  for c1 in df[cat1].unique()}\n",
    "    return df[[cat1, cat2, cat3, cat4, meanCat]].apply(lambda row: nestedDict[row[cat1]][row[cat2]][row[cat3]][row[cat4]], axis = 1)"
   ]
  },
  {
   "cell_type": "code",
   "execution_count": 6,
   "metadata": {},
   "outputs": [],
   "source": [
    "df = pre.Creating_New_Features(df)"
   ]
  },
  {
   "cell_type": "code",
   "execution_count": 9,
   "metadata": {},
   "outputs": [
    {
     "name": "stdout",
     "output_type": "stream",
     "text": [
      "4190.031631999999\n"
     ]
    }
   ],
   "source": [
    "df = pd.read_feather(\"EngineeredData.feather\").set_index(\"id\")\n",
    "# Mean value of 'KvmPris:A(kr):O' in the 'Stadsdel:S:Sd' per 'Rum:A(st):O'\n",
    "t1 = ti()\n",
    "df[\"MedelKvmPrisRum:A(kr):Sd\"] = mean2(df, 'Stadsdel:S:Sd', 'Rum:A(st):O', 'KvmPris:A(kr):O')\n",
    "t2 = ti()\n",
    "print(t2-t1)\n",
    "df.reset_index().to_feather(\"EngineeredData.feather\")"
   ]
  },
  {
   "cell_type": "code",
   "execution_count": 10,
   "metadata": {},
   "outputs": [
    {
     "name": "stdout",
     "output_type": "stream",
     "text": [
      "96.70478970000022\n"
     ]
    }
   ],
   "source": [
    "df = pd.read_feather(\"EngineeredData.feather\").set_index(\"id\")\n",
    "# Mean value of 'KvmPris:A(kr):O' in the 'Stad:S:S' per 'Rum:A(st):O'\n",
    "t1 = ti()\n",
    "df[\"MedelKvmPrisRum:A(kr):S\"] = mean2(df, 'Stad:S:S', 'Rum:A(st):O', 'KvmPris:A(kr):O')\n",
    "t2 = ti()\n",
    "print(t2-t1)\n",
    "df.reset_index().to_feather(\"EngineeredData.feather\")"
   ]
  },
  {
   "cell_type": "code",
   "execution_count": 11,
   "metadata": {},
   "outputs": [
    {
     "name": "stdout",
     "output_type": "stream",
     "text": [
      "89.19092670000009\n"
     ]
    }
   ],
   "source": [
    "df = pd.read_feather(\"EngineeredData.feather\").set_index(\"id\")\n",
    "# Mean value of 'KvmPris:A(kr):O' in the 'Kommun:S:K' per 'Rum:A(st):O'\n",
    "t1 = ti()\n",
    "df[\"MedelKvmPrisRum:A(kr):K\"] = mean2(df, 'Kommun:S:K', 'Rum:A(st):O', 'KvmPris:A(kr):O')\n",
    "t2 = ti()\n",
    "print(t2-t1)\n",
    "df.reset_index().to_feather(\"EngineeredData.feather\")"
   ]
  },
  {
   "cell_type": "code",
   "execution_count": 12,
   "metadata": {},
   "outputs": [
    {
     "name": "stdout",
     "output_type": "stream",
     "text": [
      "4368.084377199999\n"
     ]
    }
   ],
   "source": [
    "df = pd.read_feather(\"EngineeredData.feather\").set_index(\"id\")\n",
    "# Mean value of 'Pris:A(kr):O' in the 'Stadsdel:S:Sd' per 'Rum:A(st):O'\n",
    "t1 = ti()\n",
    "df[\"MedelPrisRum:A(kr):Sd\"] = mean2(df, 'Stadsdel:S:Sd', 'Rum:A(st):O', 'Pris:A(kr):O')\n",
    "t2 = ti()\n",
    "print(t2-t1)\n",
    "df.reset_index().to_feather(\"EngineeredData.feather\")"
   ]
  },
  {
   "cell_type": "code",
   "execution_count": 13,
   "metadata": {},
   "outputs": [
    {
     "name": "stdout",
     "output_type": "stream",
     "text": [
      "94.80934350000098\n"
     ]
    }
   ],
   "source": [
    "df = pd.read_feather(\"EngineeredData.feather\").set_index(\"id\")\n",
    "# Mean value of 'Pris:A(kr):O' in the 'Stad:S:S' per 'Rum:A(st):O'\n",
    "t1 = ti()\n",
    "df[\"MedelPrisRum:A(kr):S\"] = mean2(df, 'Stad:S:S', 'Rum:A(st):O', 'Pris:A(kr):O')\n",
    "t2 = ti()\n",
    "print(t2-t1)\n",
    "df.reset_index().to_feather(\"EngineeredData.feather\")"
   ]
  },
  {
   "cell_type": "code",
   "execution_count": 14,
   "metadata": {},
   "outputs": [
    {
     "name": "stdout",
     "output_type": "stream",
     "text": [
      "91.71028010000009\n"
     ]
    }
   ],
   "source": [
    "df = pd.read_feather(\"EngineeredData.feather\").set_index(\"id\")\n",
    "# Mean value of 'Pris:A(kr):O' in the 'Kommun:S:K' per 'Rum:A(st):O'\n",
    "t1 = ti()\n",
    "df[\"MedelPrisRum:A(kr):K\"] = mean2(df, 'Kommun:S:K', 'Rum:A(st):O', 'Pris:A(kr):O')\n",
    "t2 = ti()\n",
    "print(t2-t1)\n",
    "df.reset_index().to_feather(\"EngineeredData.feather\")"
   ]
  },
  {
   "cell_type": "code",
   "execution_count": 15,
   "metadata": {},
   "outputs": [
    {
     "name": "stdout",
     "output_type": "stream",
     "text": [
      "15012.888797300002\n"
     ]
    }
   ],
   "source": [
    "df = pd.read_feather(\"EngineeredData.feather\").set_index(\"id\")\n",
    "# Mean value of 'KvmPris:A(kr):O' in the 'Stadsdel:S:Sd' per 'Rum:A(st):O' and per 'År:N:Å'\n",
    "t1 = ti()\n",
    "df[\"MedelKvmPrisRum:A(kr):SdÅ\"] = mean3(df, 'Stadsdel:S:Sd', 'Rum:A(st):O', 'År:N:Å',  'KvmPris:A(kr):O')\n",
    "t2 = ti()\n",
    "print(t2-t1)\n",
    "df.reset_index().to_feather(\"EngineeredData.feather\")"
   ]
  },
  {
   "cell_type": "code",
   "execution_count": 16,
   "metadata": {},
   "outputs": [
    {
     "name": "stdout",
     "output_type": "stream",
     "text": [
      "723.1647923000019\n"
     ]
    }
   ],
   "source": [
    "df = pd.read_feather(\"EngineeredData.feather\").set_index(\"id\")\n",
    "# Mean value of 'KvmPris:A(kr):O' in the 'Stad:S:S' per 'Rum:A(st):O' and per 'År:N:Å'\n",
    "t1 = ti()\n",
    "df[\"MedelKvmPrisRum:A(kr):SÅ\"] = mean3(df, 'Stad:S:S', 'Rum:A(st):O', 'År:N:Å', 'KvmPris:A(kr):O')\n",
    "t2 = ti()\n",
    "print(t2-t1)\n",
    "df.reset_index().to_feather(\"EngineeredData.feather\")"
   ]
  },
  {
   "cell_type": "code",
   "execution_count": 17,
   "metadata": {},
   "outputs": [
    {
     "name": "stdout",
     "output_type": "stream",
     "text": [
      "726.0662383999988\n"
     ]
    }
   ],
   "source": [
    "df = pd.read_feather(\"EngineeredData.feather\").set_index(\"id\")\n",
    "# Mean value of 'KvmPris:A(kr):O' in the 'Kommun:S:K' per 'Rum:A(st):O' and per 'År:N:Å'\n",
    "t1 = ti()\n",
    "df[\"MedelKvmPrisRum:A(kr):KÅ\"] = mean3(df, 'Kommun:S:K', 'Rum:A(st):O', 'År:N:Å', 'KvmPris:A(kr):O')\n",
    "t2 = ti()\n",
    "print(t2-t1)\n",
    "df.reset_index().to_feather(\"EngineeredData.feather\")"
   ]
  },
  {
   "cell_type": "code",
   "execution_count": 18,
   "metadata": {},
   "outputs": [
    {
     "name": "stdout",
     "output_type": "stream",
     "text": [
      "14889.6692825\n"
     ]
    }
   ],
   "source": [
    "df = pd.read_feather(\"EngineeredData.feather\").set_index(\"id\")\n",
    "# Mean value of 'Pris:A(kr):O' in the 'Stadsdel:S:Sd' per 'Rum:A(st):O' and per 'År:N:Å'\n",
    "t1 = ti()\n",
    "df[\"MedelPrisRum:A(kr):SdÅ\"] = mean3(df, 'Stadsdel:S:Sd', 'Rum:A(st):O', 'År:N:Å', 'Pris:A(kr):O')\n",
    "t2 = ti()\n",
    "print(t2-t1)\n",
    "df.reset_index().to_feather(\"EngineeredData.feather\")"
   ]
  },
  {
   "cell_type": "code",
   "execution_count": 19,
   "metadata": {},
   "outputs": [
    {
     "name": "stdout",
     "output_type": "stream",
     "text": [
      "751.4897167999952\n"
     ]
    }
   ],
   "source": [
    "df = pd.read_feather(\"EngineeredData.feather\").set_index(\"id\")\n",
    "# Mean value of 'Pris:A(kr):O' in the 'Stad:S:S' per 'Rum:A(st):O' and per 'År:N:Å'\n",
    "t1 = ti()\n",
    "df[\"MedelPrisRum:A(kr):SÅ\"] = mean3(df, 'Stad:S:S', 'Rum:A(st):O', 'År:N:Å', 'Pris:A(kr):O')\n",
    "t2 = ti()\n",
    "print(t2-t1)\n",
    "df.reset_index().to_feather(\"EngineeredData.feather\")"
   ]
  },
  {
   "cell_type": "code",
   "execution_count": 20,
   "metadata": {},
   "outputs": [
    {
     "name": "stdout",
     "output_type": "stream",
     "text": [
      "719.8010056000057\n"
     ]
    }
   ],
   "source": [
    "df = pd.read_feather(\"EngineeredData.feather\").set_index(\"id\")\n",
    "# Mean value of 'Pris:A(kr):O' in the 'Kommun:S:K' per 'Rum:A(st):O' and per 'År:N:Å'\n",
    "t1 = ti()\n",
    "df[\"MedelPrisRum:A(kr):KÅ\"] = mean3(df, 'Kommun:S:K', 'Rum:A(st):O', 'År:N:Å', 'Pris:A(kr):O')\n",
    "t2 = ti()\n",
    "print(t2-t1)\n",
    "df.reset_index().to_feather(\"EngineeredData.feather\")"
   ]
  },
  {
   "cell_type": "code",
   "execution_count": 21,
   "metadata": {},
   "outputs": [
    {
     "name": "stdout",
     "output_type": "stream",
     "text": [
      "29.395561400000588\n"
     ]
    }
   ],
   "source": [
    "df = pd.read_feather(\"EngineeredData.feather\").set_index(\"id\")\n",
    "# Mean value of 'KvmPris:A(kr):O' in the 'Lat0Deci:N:O', 'Long0Deci:N:O' per 'Rum:A(st):O'\n",
    "t1 = ti()\n",
    "df[\"MedelKvmPrisRumLatLong0Deci:A(kr):\"] = mean3(df, 'Lat0Deci:N:O', 'Long0Deci:N:O', 'Rum:A(st):O', 'KvmPris:A(kr):O')\n",
    "t2 = ti()\n",
    "print(t2-t1)\n",
    "df.reset_index().to_feather(\"EngineeredData.feather\")"
   ]
  },
  {
   "cell_type": "code",
   "execution_count": 22,
   "metadata": {},
   "outputs": [
    {
     "name": "stdout",
     "output_type": "stream",
     "text": [
      "131.38465779999387\n"
     ]
    }
   ],
   "source": [
    "df = pd.read_feather(\"EngineeredData.feather\").set_index(\"id\")\n",
    "# Mean value of 'KvmPris:A(kr):O' in the 'Lat1Deci:N:O', 'Long1Deci:N:O' per 'Rum:A(st):O'\n",
    "t1 = ti()\n",
    "df[\"MedelKvmPrisRumLatLong1Deci:A(kr):\"] = mean3(df, 'Lat1Deci:N:O', 'Long1Deci:N:O', 'Rum:A(st):O', 'KvmPris:A(kr):O')\n",
    "t2 = ti()\n",
    "print(t2-t1)\n",
    "df.reset_index().to_feather(\"EngineeredData.feather\")"
   ]
  },
  {
   "cell_type": "code",
   "execution_count": 23,
   "metadata": {},
   "outputs": [
    {
     "name": "stdout",
     "output_type": "stream",
     "text": [
      "1178.4803488000034\n"
     ]
    }
   ],
   "source": [
    "df = pd.read_feather(\"EngineeredData.feather\").set_index(\"id\")\n",
    "# Mean value of 'KvmPris:A(kr):O' in the 'Lat2Deci:N:O', 'Long2Deci:N:O' per 'Rum:A(st):O'\n",
    "t1 = ti()\n",
    "df[\"MedelKvmPrisRumLatLong2Deci:A(kr):\"] = mean3(df, 'Lat2Deci:N:O', 'Long2Deci:N:O', 'Rum:A(st):O', 'KvmPris:A(kr):O')\n",
    "t2 = ti()\n",
    "print(t2-t1)\n",
    "df.reset_index().to_feather(\"EngineeredData.feather\")"
   ]
  },
  {
   "cell_type": "code",
   "execution_count": 24,
   "metadata": {},
   "outputs": [
    {
     "name": "stdout",
     "output_type": "stream",
     "text": [
      "5256.788397199998\n"
     ]
    }
   ],
   "source": [
    "df = pd.read_feather(\"EngineeredData.feather\").set_index(\"id\")\n",
    "# Mean value of 'KvmPris:A(kr):O' in the 'Lat3Deci:N:O', 'Long3Deci:N:O' per 'Rum:A(st):O'\n",
    "t1 = ti()\n",
    "df[\"MedelKvmPrisRumLatLong3Deci:A(kr):\"] = mean3(df, 'Lat3Deci:N:O', 'Long3Deci:N:O', 'Rum:A(st):O', 'KvmPris:A(kr):O')\n",
    "t2 = ti()\n",
    "print(t2-t1)\n",
    "df.reset_index().to_feather(\"EngineeredData.feather\")"
   ]
  },
  {
   "cell_type": "code",
   "execution_count": 25,
   "metadata": {},
   "outputs": [
    {
     "name": "stdout",
     "output_type": "stream",
     "text": [
      "99.10768069999904\n"
     ]
    }
   ],
   "source": [
    "df = pd.read_feather(\"EngineeredData.feather\").set_index(\"id\")\n",
    "# Mean value of 'KvmPris:A(kr):O' in the 'Lat0Deci:N:O', 'Long0Deci:N:O' per 'Rum:A(st):O' and per 'År:N:Å'\n",
    "t1 = ti()\n",
    "df[\"MedelKvmPrisRumLatLong0Deci:A(kr):Å\"] = mean4(df, 'Lat0Deci:N:O', 'Long0Deci:N:O', 'Rum:A(st):O', 'År:N:Å', 'KvmPris:A(kr):O')\n",
    "t2 = ti()\n",
    "print(t2-t1)\n",
    "df.reset_index().to_feather(\"EngineeredData.feather\")"
   ]
  },
  {
   "cell_type": "code",
   "execution_count": 26,
   "metadata": {},
   "outputs": [
    {
     "name": "stdout",
     "output_type": "stream",
     "text": [
      "865.8860445000028\n"
     ]
    }
   ],
   "source": [
    "df = pd.read_feather(\"EngineeredData.feather\").set_index(\"id\")\n",
    "# Mean value of 'KvmPris:A(kr):O' in the 'Lat1Deci:N:O', 'Long1Deci:N:O' per 'Rum:A(st):O' and per 'År:N:Å'\n",
    "t1 = ti()\n",
    "df[\"MedelKvmPrisRumLatLong1Deci:A(kr):Å\"] = mean4(df, 'Lat1Deci:N:O', 'Long1Deci:N:O', 'Rum:A(st):O', 'År:N:Å', 'KvmPris:A(kr):O')\n",
    "t2 = ti()\n",
    "print(t2-t1)\n",
    "df.reset_index().to_feather(\"EngineeredData.feather\")"
   ]
  },
  {
   "cell_type": "code",
   "execution_count": 27,
   "metadata": {},
   "outputs": [
    {
     "name": "stdout",
     "output_type": "stream",
     "text": [
      "5039.992864300002\n"
     ]
    }
   ],
   "source": [
    "df = pd.read_feather(\"EngineeredData.feather\").set_index(\"id\")\n",
    "# Mean value of 'KvmPris:A(kr):O' in the 'Lat2Deci:N:O', 'Long2Deci:N:O' per 'Rum:A(st):O' and per 'År:N:Å'\n",
    "t1 = ti()\n",
    "df[\"MedelKvmPrisRumLatLong2Deci:A(kr):Å\"] = mean4(df, 'Lat2Deci:N:O', 'Long2Deci:N:O', 'Rum:A(st):O','År:N:Å', 'KvmPris:A(kr):O')\n",
    "t2 = ti()\n",
    "print(t2-t1)\n",
    "df.reset_index().to_feather(\"EngineeredData.feather\")"
   ]
  },
  {
   "cell_type": "code",
   "execution_count": 28,
   "metadata": {},
   "outputs": [
    {
     "name": "stdout",
     "output_type": "stream",
     "text": [
      "13838.465887599996\n"
     ]
    }
   ],
   "source": [
    "df = pd.read_feather(\"EngineeredData.feather\").set_index(\"id\")\n",
    "# Mean value of 'KvmPris:A(kr):O' in the 'Lat3Deci:N:O', 'Long3Deci:N:O' per 'Rum:A(st):O' and per 'År:N:Å'\n",
    "t1 = ti()\n",
    "df[\"MedelKvmPrisRumLatLong3Deci:A(kr):Å\"] = mean4(df, 'Lat3Deci:N:O', 'Long3Deci:N:O', 'Rum:A(st):O','År:N:Å', 'KvmPris:A(kr):O')\n",
    "t2 = ti()\n",
    "print(t2-t1)\n",
    "df.reset_index().to_feather(\"EngineeredData.feather\")"
   ]
  },
  {
   "cell_type": "code",
   "execution_count": null,
   "metadata": {},
   "outputs": [],
   "source": [
    "df = pd.read_feather(\"EngineeredData.feather\").set_index(\"id\")\n",
    "\n",
    "df.reset_index().to_feather(\"EngineeredData.feather\")"
   ]
  },
  {
   "cell_type": "code",
   "execution_count": null,
   "metadata": {},
   "outputs": [],
   "source": [
    "df = pd.read_feather(\"EngineeredData.feather\").set_index(\"id\")\n",
    "\n",
    "df.reset_index().to_feather(\"EngineeredData.feather\")"
   ]
  },
  {
   "cell_type": "code",
   "execution_count": null,
   "metadata": {},
   "outputs": [],
   "source": [
    "df = pd.read_feather(\"EngineeredData.feather\").set_index(\"id\")\n",
    "\n",
    "df.reset_index().to_feather(\"EngineeredData.feather\")"
   ]
  },
  {
   "cell_type": "code",
   "execution_count": null,
   "metadata": {},
   "outputs": [],
   "source": [
    "df = pd.read_feather(\"EngineeredData.feather\").set_index(\"id\")\n",
    "\n",
    "df.reset_index().to_feather(\"EngineeredData.feather\")"
   ]
  },
  {
   "cell_type": "code",
   "execution_count": null,
   "metadata": {},
   "outputs": [],
   "source": [
    "df = pd.read_feather(\"EngineeredData.feather\").set_index(\"id\")\n",
    "\n",
    "df.reset_index().to_feather(\"EngineeredData.feather\")"
   ]
  }
 ],
 "metadata": {
  "kernelspec": {
   "display_name": "Python 3",
   "language": "python",
   "name": "python3"
  },
  "language_info": {
   "codemirror_mode": {
    "name": "ipython",
    "version": 3
   },
   "file_extension": ".py",
   "mimetype": "text/x-python",
   "name": "python",
   "nbconvert_exporter": "python",
   "pygments_lexer": "ipython3",
   "version": "3.9.1"
  },
  "toc": {
   "base_numbering": 1,
   "nav_menu": {},
   "number_sections": true,
   "sideBar": true,
   "skip_h1_title": false,
   "title_cell": "Table of Contents",
   "title_sidebar": "Contents",
   "toc_cell": false,
   "toc_position": {},
   "toc_section_display": true,
   "toc_window_display": false
  }
 },
 "nbformat": 4,
 "nbformat_minor": 2
}
