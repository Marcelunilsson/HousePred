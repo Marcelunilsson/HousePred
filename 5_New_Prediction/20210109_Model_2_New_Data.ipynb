{
 "cells": [
  {
   "cell_type": "code",
   "execution_count": 6,
   "metadata": {},
   "outputs": [
    {
     "data": {
      "text/html": [
       "<style>.container { width:100% !important; }</style>"
      ],
      "text/plain": [
       "<IPython.core.display.HTML object>"
      ]
     },
     "metadata": {},
     "output_type": "display_data"
    }
   ],
   "source": [
    "import pandas as pd\n",
    "import numpy as np\n",
    "import joblib\n",
    "import pickle\n",
    "\n",
    "from sklearn.model_selection import train_test_split\n",
    "\n",
    "import sys; sys.path.insert(0, '..')\n",
    "from _Library import Data_PreProcessing as pre\n",
    "from _Library import Data_PostProcessing as post\n",
    "from _Library import Selection as sel\n",
    "from _Library import Model as mod\n",
    "\n",
    "from IPython.core.display import display, HTML\n",
    "display(HTML(\"<style>.container { width:100% !important; }</style>\"))\n",
    "pd.options.display.max_rows = 999\n",
    "pd.options.display.max_columns = 999"
   ]
  },
  {
   "cell_type": "markdown",
   "metadata": {},
   "source": [
    "###  Load Files"
   ]
  },
  {
   "cell_type": "code",
   "execution_count": 7,
   "metadata": {},
   "outputs": [
    {
     "name": "stderr",
     "output_type": "stream",
     "text": [
      "/Library/Frameworks/Python.framework/Versions/3.8/lib/python3.8/site-packages/sklearn/base.py:329: UserWarning: Trying to unpickle estimator OneHotEncoder from version 0.23.2 when using version 0.23.1. This might lead to breaking code or invalid results. Use at your own risk.\n",
      "  warnings.warn(\n",
      "/Library/Frameworks/Python.framework/Versions/3.8/lib/python3.8/site-packages/sklearn/base.py:329: UserWarning: Trying to unpickle estimator MinMaxScaler from version 0.23.2 when using version 0.23.1. This might lead to breaking code or invalid results. Use at your own risk.\n",
      "  warnings.warn(\n",
      "/Library/Frameworks/Python.framework/Versions/3.8/lib/python3.8/site-packages/sklearn/base.py:329: UserWarning: Trying to unpickle estimator DecisionTreeRegressor from version 0.23.2 when using version 0.23.1. This might lead to breaking code or invalid results. Use at your own risk.\n",
      "  warnings.warn(\n",
      "/Library/Frameworks/Python.framework/Versions/3.8/lib/python3.8/site-packages/sklearn/base.py:329: UserWarning: Trying to unpickle estimator RandomForestRegressor from version 0.23.2 when using version 0.23.1. This might lead to breaking code or invalid results. Use at your own risk.\n",
      "  warnings.warn(\n"
     ]
    }
   ],
   "source": [
    "encoder, scaler, model = pre.Import_Variables()"
   ]
  },
  {
   "cell_type": "markdown",
   "metadata": {},
   "source": [
    "###  Import DataSets"
   ]
  },
  {
   "cell_type": "code",
   "execution_count": 8,
   "metadata": {},
   "outputs": [],
   "source": [
    "df = pd.read_feather('../2_Feature Engineering/EngineeredData.feather').set_index(\"id\")\n",
    "new_df = pd.read_excel('../_Datasets/New_df.xls')"
   ]
  },
  {
   "cell_type": "markdown",
   "metadata": {},
   "source": [
    "###  Method Library"
   ]
  },
  {
   "cell_type": "code",
   "execution_count": 4,
   "metadata": {},
   "outputs": [],
   "source": [
    "#Mean from two categories\n",
    "def mean2(df, cat1, cat2, meanCat):\n",
    "    nestedDict = {c1:{c2:df[(df[cat1] == c1) & (df[cat2]==c2)][meanCat].mean() \n",
    "                      for c2 in df[df[cat1] == c1][cat2].unique()} \n",
    "                  for c1 in df[cat1].unique()}\n",
    "    return df[[cat1, cat2, meanCat]].apply(lambda row: nestedDict[row[cat1]][row[cat2]], axis = 1)\n",
    "\n",
    "#Mean from tree categories\n",
    "def mean3(df, cat1, cat2, cat3, meanCat):\n",
    "    nestedDict = {c1:{c2:{c3:df[(df[cat1] == c1) & (df[cat2]==c2) & (df[cat3] == c3)][meanCat].mean() \n",
    "                          for c3 in df[(df[cat1] == c1) & (df[cat2]==c2)][cat3].unique()}\n",
    "                      for c2 in df[df[cat1] == c1][cat2].unique()}\n",
    "                  for c1 in df[cat1].unique()}\n",
    "    return df[[cat1, cat2, cat3, meanCat]].apply(lambda row: nestedDict[row[cat1]][row[cat2]][row[cat3]], axis = 1)\n",
    "\n",
    "#Mean from four categories\n",
    "def mean4(df, cat1, cat2, cat3, cat4, meanCat):\n",
    "    nestedDict = {c1:{c2:{c3:{c4:df[(df[cat1] == c1) & (df[cat2]==c2) & (df[cat3] == c3) & (df[cat4]==c4)][meanCat].mean() \n",
    "                              for c4 in df[(df[cat1] == c1) & (df[cat2]==c2) & (df[cat3]==c3)][cat4].unique()}\n",
    "                          for c3 in df[(df[cat1] == c1) & (df[cat2]==c2)][cat3].unique()}\n",
    "                      for c2 in df[df[cat1] == c1][cat2].unique()}\n",
    "                  for c1 in df[cat1].unique()}\n",
    "    return df[[cat1, cat2, cat3, cat4, meanCat]].apply(lambda row: nestedDict[row[cat1]][row[cat2]][row[cat3]][row[cat4]], axis = 1)"
   ]
  },
  {
   "cell_type": "code",
   "execution_count": 5,
   "metadata": {},
   "outputs": [],
   "source": [
    "new_df = sel.Data_Selection(new_df)"
   ]
  },
  {
   "cell_type": "markdown",
   "metadata": {},
   "source": [
    "###  Creating New Features"
   ]
  },
  {
   "cell_type": "code",
   "execution_count": 6,
   "metadata": {},
   "outputs": [],
   "source": [
    "new_df = pre.Creating_New_Features(new_df)"
   ]
  },
  {
   "cell_type": "code",
   "execution_count": 7,
   "metadata": {},
   "outputs": [
    {
     "data": {
      "text/plain": [
       "(21, 90)"
      ]
     },
     "execution_count": 7,
     "metadata": {},
     "output_type": "execute_result"
    }
   ],
   "source": [
    "new_df.shape"
   ]
  },
  {
   "cell_type": "code",
   "execution_count": 8,
   "metadata": {},
   "outputs": [
    {
     "data": {
      "text/plain": [
       "'\\ndf = df.loc[df[\"Objekttyp:S:O\"].isin([\"Lägenhet\"])]\\ndf = df.loc[df[\"Kommun:S:K\"].isin([\"Malmö\", \"Göteborg\"])]\\ndf = df[df[\"År:N:Å\"] >= 2019]\\n\\nnew_df[\"MedelKvmPrisRum:A(kr):Sd\"] = mean2(df, \\'Stadsdel:S:Sd\\', \\'Rum:A(st):O\\', \\'KvmPris:A(kr):O\\')\\nnew_df[\"MedelKvmPrisRum:A(kr):S\"] = mean2(df, \\'Stad:S:S\\', \\'Rum:A(st):O\\', \\'KvmPris:A(kr):O\\')\\nnew_df[\"MedelKvmPrisRum:A(kr):K\"] = mean2(df, \\'Kommun:S:K\\', \\'Rum:A(st):O\\', \\'KvmPris:A(kr):O\\')\\nnew_df[\"MedelPrisRum:A(kr):Sd\"] = mean2(df, \\'Stadsdel:S:Sd\\', \\'Rum:A(st):O\\', \\'Pris:A(kr):O\\')\\nnew_df[\"MedelPrisRum:A(kr):S\"] = mean2(df, \\'Stad:S:S\\', \\'Rum:A(st):O\\', \\'Pris:A(kr):O\\')\\nnew_df[\"MedelPrisRum:A(kr):K\"] = mean2(df, \\'Kommun:S:K\\', \\'Rum:A(st):O\\', \\'Pris:A(kr):O\\')\\nnew_df[\"MedelKvmPrisRum:A(kr):SdÅ\"] = mean3(df, \\'Stadsdel:S:Sd\\', \\'Rum:A(st):O\\', \\'År:N:Å\\',  \\'KvmPris:A(kr):O\\')\\nnew_df[\"MedelKvmPrisRum:A(kr):SÅ\"] = mean3(df, \\'Stad:S:S\\', \\'Rum:A(st):O\\', \\'År:N:Å\\', \\'KvmPris:A(kr):O\\')\\nnew_df[\"MedelKvmPrisRum:A(kr):KÅ\"] = mean3(df, \\'Kommun:S:K\\', \\'Rum:A(st):O\\', \\'År:N:Å\\', \\'KvmPris:A(kr):O\\')\\nnew_df[\"MedelPrisRum:A(kr):SdÅ\"] = mean3(df, \\'Stadsdel:S:Sd\\', \\'Rum:A(st):O\\', \\'År:N:Å\\', \\'Pris:A(kr):O\\')\\nnew_df[\"MedelPrisRum:A(kr):SÅ\"] = mean3(df, \\'Stad:S:S\\', \\'Rum:A(st):O\\', \\'År:N:Å\\', \\'Pris:A(kr):O\\')\\nnew_df[\"MedelPrisRum:A(kr):KÅ\"] = mean3(df, \\'Kommun:S:K\\', \\'Rum:A(st):O\\', \\'År:N:Å\\', \\'Pris:A(kr):O\\')\\nnew_df[\"MedelKvmPrisRumLatLong0Deci:A(kr):\"] = mean3(df, \\'Lat0Deci:N:O\\', \\'Long0Deci:N:O\\', \\'Rum:A(st):O\\', \\'KvmPris:A(kr):O\\')\\nnew_df[\"MedelKvmPrisRumLatLong1Deci:A(kr):\"] = mean3(df, \\'Lat1Deci:N:O\\', \\'Long1Deci:N:O\\', \\'Rum:A(st):O\\', \\'KvmPris:A(kr):O\\')\\nnew_df[\"MedelKvmPrisRumLatLong2Deci:A(kr):\"] = mean3(df, \\'Lat2Deci:N:O\\', \\'Long2Deci:N:O\\', \\'Rum:A(st):O\\', \\'KvmPris:A(kr):O\\')\\nnew_df[\"MedelKvmPrisRumLatLong3Deci:A(kr):\"] = mean3(df, \\'Lat3Deci:N:O\\', \\'Long3Deci:N:O\\', \\'Rum:A(st):O\\', \\'KvmPris:A(kr):O\\')\\nnew_df[\"MedelKvmPrisRumLatLong0Deci:A(kr):Å\"] = mean4(df, \\'Lat0Deci:N:O\\', \\'Long0Deci:N:O\\', \\'Rum:A(st):O\\', \\'År:N:Å\\', \\'KvmPris:A(kr):O\\')\\nnew_df[\"MedelKvmPrisRumLatLong1Deci:A(kr):Å\"] = mean4(df, \\'Lat1Deci:N:O\\', \\'Long1Deci:N:O\\', \\'Rum:A(st):O\\', \\'År:N:Å\\', \\'KvmPris:A(kr):O\\')\\nnew_df[\"MedelKvmPrisRumLatLong2Deci:A(kr):Å\"] = mean4(df, \\'Lat2Deci:N:O\\', \\'Long2Deci:N:O\\', \\'Rum:A(st):O\\',\\'År:N:Å\\', \\'KvmPris:A(kr):O\\')\\nnew_df[\"MedelKvmPrisRumLatLong3Deci:A(kr):Å\"] = mean4(df, \\'Lat3Deci:N:O\\', \\'Long3Deci:N:O\\', \\'Rum:A(st):O\\',\\'År:N:Å\\', \\'KvmPris:A(kr):O\\')\\n'"
      ]
     },
     "execution_count": 8,
     "metadata": {},
     "output_type": "execute_result"
    }
   ],
   "source": [
    "\"\"\"\n",
    "df = df.loc[df[\"Objekttyp:S:O\"].isin([\"Lägenhet\"])]\n",
    "df = df.loc[df[\"Kommun:S:K\"].isin([\"Malmö\", \"Göteborg\"])]\n",
    "df = df[df[\"År:N:Å\"] >= 2019]\n",
    "\n",
    "new_df[\"MedelKvmPrisRum:A(kr):Sd\"] = mean2(df, 'Stadsdel:S:Sd', 'Rum:A(st):O', 'KvmPris:A(kr):O')\n",
    "new_df[\"MedelKvmPrisRum:A(kr):S\"] = mean2(df, 'Stad:S:S', 'Rum:A(st):O', 'KvmPris:A(kr):O')\n",
    "new_df[\"MedelKvmPrisRum:A(kr):K\"] = mean2(df, 'Kommun:S:K', 'Rum:A(st):O', 'KvmPris:A(kr):O')\n",
    "new_df[\"MedelPrisRum:A(kr):Sd\"] = mean2(df, 'Stadsdel:S:Sd', 'Rum:A(st):O', 'Pris:A(kr):O')\n",
    "new_df[\"MedelPrisRum:A(kr):S\"] = mean2(df, 'Stad:S:S', 'Rum:A(st):O', 'Pris:A(kr):O')\n",
    "new_df[\"MedelPrisRum:A(kr):K\"] = mean2(df, 'Kommun:S:K', 'Rum:A(st):O', 'Pris:A(kr):O')\n",
    "new_df[\"MedelKvmPrisRum:A(kr):SdÅ\"] = mean3(df, 'Stadsdel:S:Sd', 'Rum:A(st):O', 'År:N:Å',  'KvmPris:A(kr):O')\n",
    "new_df[\"MedelKvmPrisRum:A(kr):SÅ\"] = mean3(df, 'Stad:S:S', 'Rum:A(st):O', 'År:N:Å', 'KvmPris:A(kr):O')\n",
    "new_df[\"MedelKvmPrisRum:A(kr):KÅ\"] = mean3(df, 'Kommun:S:K', 'Rum:A(st):O', 'År:N:Å', 'KvmPris:A(kr):O')\n",
    "new_df[\"MedelPrisRum:A(kr):SdÅ\"] = mean3(df, 'Stadsdel:S:Sd', 'Rum:A(st):O', 'År:N:Å', 'Pris:A(kr):O')\n",
    "new_df[\"MedelPrisRum:A(kr):SÅ\"] = mean3(df, 'Stad:S:S', 'Rum:A(st):O', 'År:N:Å', 'Pris:A(kr):O')\n",
    "new_df[\"MedelPrisRum:A(kr):KÅ\"] = mean3(df, 'Kommun:S:K', 'Rum:A(st):O', 'År:N:Å', 'Pris:A(kr):O')\n",
    "new_df[\"MedelKvmPrisRumLatLong0Deci:A(kr):\"] = mean3(df, 'Lat0Deci:N:O', 'Long0Deci:N:O', 'Rum:A(st):O', 'KvmPris:A(kr):O')\n",
    "new_df[\"MedelKvmPrisRumLatLong1Deci:A(kr):\"] = mean3(df, 'Lat1Deci:N:O', 'Long1Deci:N:O', 'Rum:A(st):O', 'KvmPris:A(kr):O')\n",
    "new_df[\"MedelKvmPrisRumLatLong2Deci:A(kr):\"] = mean3(df, 'Lat2Deci:N:O', 'Long2Deci:N:O', 'Rum:A(st):O', 'KvmPris:A(kr):O')\n",
    "new_df[\"MedelKvmPrisRumLatLong3Deci:A(kr):\"] = mean3(df, 'Lat3Deci:N:O', 'Long3Deci:N:O', 'Rum:A(st):O', 'KvmPris:A(kr):O')\n",
    "new_df[\"MedelKvmPrisRumLatLong0Deci:A(kr):Å\"] = mean4(df, 'Lat0Deci:N:O', 'Long0Deci:N:O', 'Rum:A(st):O', 'År:N:Å', 'KvmPris:A(kr):O')\n",
    "new_df[\"MedelKvmPrisRumLatLong1Deci:A(kr):Å\"] = mean4(df, 'Lat1Deci:N:O', 'Long1Deci:N:O', 'Rum:A(st):O', 'År:N:Å', 'KvmPris:A(kr):O')\n",
    "new_df[\"MedelKvmPrisRumLatLong2Deci:A(kr):Å\"] = mean4(df, 'Lat2Deci:N:O', 'Long2Deci:N:O', 'Rum:A(st):O','År:N:Å', 'KvmPris:A(kr):O')\n",
    "new_df[\"MedelKvmPrisRumLatLong3Deci:A(kr):Å\"] = mean4(df, 'Lat3Deci:N:O', 'Long3Deci:N:O', 'Rum:A(st):O','År:N:Å', 'KvmPris:A(kr):O')\n",
    "\"\"\""
   ]
  },
  {
   "cell_type": "markdown",
   "metadata": {},
   "source": [
    "### Convert to Float32 and String"
   ]
  },
  {
   "cell_type": "code",
   "execution_count": 9,
   "metadata": {},
   "outputs": [],
   "source": [
    "new_df = pre.Convert_to_Float32_and_String(new_df)"
   ]
  },
  {
   "cell_type": "code",
   "execution_count": 10,
   "metadata": {},
   "outputs": [
    {
     "data": {
      "text/plain": [
       "Rum:A(st):O                                   0\n",
       "Kvm:A(st):O                                   0\n",
       "Pris:A(kr):O                                  0\n",
       "KvmPris:A(kr):O                               0\n",
       "Månad:N:M                                     0\n",
       "År:N:Å                                        0\n",
       "Lat:N:O                                       0\n",
       "Long:N:O                                      0\n",
       "Arbetslöshet:P:L                              0\n",
       "SkattTotal:P:KÅ                               0\n",
       "SkattRegering:P:KÅ                            0\n",
       "SkattKommun:P:KÅ                              0\n",
       "Snittslön:A(kr/m):LÅ                          0\n",
       "SnittslönMän:A(tkr/å):KÅ                      0\n",
       "SnittslönKvinnor:A(tkr/å):KÅ                  0\n",
       "Snittslön:A(tkr/å):KÅ                         0\n",
       "UtbFörGym<9År:A(st):KÅ                        0\n",
       "UtbFörGym9År:A(st):KÅ                         0\n",
       "UtbGym<=2År                                   0\n",
       "UtbGym3År:A(st):KÅ                            0\n",
       "UtbEfterGym<3År:A(st):KÅ                      0\n",
       "UtbEfterGym>=3År:A(st):KÅ                     0\n",
       "UtbForskare:A(st):KÅ                          0\n",
       "UtbUppgSaknas:A(st):KÅ                        0\n",
       "Inflyttning:A(st):KÅ                          0\n",
       "Utflyttning:A(st):KÅ                          0\n",
       "Invandring:A(st):KÅ                           0\n",
       "Utvandring:A(st):KÅ                           0\n",
       "FlyttningÖverskott:A(st):KÅ                   0\n",
       "InvandringÖverskott:A(st):KÅ                  0\n",
       "FöddaISverige:A(st):KÅ                        0\n",
       "FöddaIUtland:A(st):KÅ                         0\n",
       "AntalMän:A(st):KÅ                             0\n",
       "AntalKvinnor:A(st):KÅ                         0\n",
       "InvånareKm:A(st):KÅ                           0\n",
       "MedelålderMän:A(st):KÅ                        0\n",
       "MedelålderKvinnor:A(st):KÅ                    0\n",
       "Medelålder:A(st):KÅ                           0\n",
       "KrimMisshandel:A(st):KÅ                       0\n",
       "KrimNarkotika:A(st):KÅ                        0\n",
       "KrimNarkotikaÖverlåtelse:A(st):KÅ             0\n",
       "KvmTomt:A(st):O                              21\n",
       "GDP:A(Giga$):LÅ                               0\n",
       "OMXIndex:N:LD                                 0\n",
       "RepoRänta:P:LD                                0\n",
       "KPI:N:LÅ                                      0\n",
       "PenningMängdM1:A(mkr):LM                      0\n",
       "PenningMängdM2:A(mkr):LM                      0\n",
       "Lat5Deci:N:O                                  0\n",
       "Lat4Deci:N:O                                  0\n",
       "Lat3Deci:N:O                                  0\n",
       "Lat2Deci:N:O                                  0\n",
       "Lat1Deci:N:O                                  0\n",
       "Lat0Deci:N:O                                  0\n",
       "Long5Deci:N:O                                 0\n",
       "Long4Deci:N:O                                 0\n",
       "Long3Deci:N:O                                 0\n",
       "Long2Deci:N:O                                 0\n",
       "Long1Deci:N:O                                 0\n",
       "Long0Deci:N:O                                 0\n",
       "AntalInvånare:A(st):KÅ                        0\n",
       "UtbFörGym<9År:A(st):KÅ_procent                0\n",
       "UtbFörGym9År:A(st):KÅ_procent                 0\n",
       "UtbGym<=2År_procent                           0\n",
       "UtbGym3År:A(st):KÅ_procent                    0\n",
       "UtbEfterGym<3År:A(st):KÅ_procent              0\n",
       "UtbEfterGym>=3År:A(st):KÅ_procent             0\n",
       "UtbForskare:A(st):KÅ_procent                  0\n",
       "UtbUppgSaknas:A(st):KÅ_procent                0\n",
       "Inflyttning:A(st):KÅ_procent                  0\n",
       "Utflyttning:A(st):KÅ_procent                  0\n",
       "Invandring:A(st):KÅ_procent                   0\n",
       "Utvandring:A(st):KÅ_procent                   0\n",
       "FlyttningÖverskott:A(st):KÅ_procent           0\n",
       "InvandringÖverskott:A(st):KÅ_procent          0\n",
       "FöddaISverige:A(st):KÅ_procent                0\n",
       "FöddaIUtland:A(st):KÅ_procent                 0\n",
       "AntalMän:A(st):KÅ_procent                     0\n",
       "AntalKvinnor:A(st):KÅ_procent                 0\n",
       "InvånareKm:A(st):KÅ_procent                   0\n",
       "KrimMisshandel:A(st):KÅ_procent               0\n",
       "KrimNarkotika:A(st):KÅ_procent                0\n",
       "KrimNarkotikaÖverlåtelse:A(st):KÅ_procent     0\n",
       "Objekttyp:S:O                                 0\n",
       "Gata:S:G                                      0\n",
       "Stadsdel:S:Sd                                 0\n",
       "Stad:S:S                                      0\n",
       "Kommun:S:K                                    0\n",
       "Landskap:S:Ls                                 0\n",
       "HarTomt:B:O                                   0\n",
       "dtype: int64"
      ]
     },
     "execution_count": 10,
     "metadata": {},
     "output_type": "execute_result"
    }
   ],
   "source": [
    "#new_df.isnull().sum()\n",
    "#new_df.isnull().sum().sum()"
   ]
  },
  {
   "cell_type": "markdown",
   "metadata": {},
   "source": [
    "### X & Y"
   ]
  },
  {
   "cell_type": "code",
   "execution_count": 11,
   "metadata": {},
   "outputs": [
    {
     "name": "stdout",
     "output_type": "stream",
     "text": [
      "X.shape: (21, 64) \n",
      "y.shape: (21,) \n",
      "No diff between X.shape and y.shape: True\n"
     ]
    }
   ],
   "source": [
    "X, y = sel.Defining_X_and_Y(new_df)"
   ]
  },
  {
   "cell_type": "markdown",
   "metadata": {},
   "source": [
    "###  Encoding Categorical Features"
   ]
  },
  {
   "cell_type": "code",
   "execution_count": 12,
   "metadata": {},
   "outputs": [],
   "source": [
    "X = pre.Encoding_New_Data(X, encoder)"
   ]
  },
  {
   "cell_type": "markdown",
   "metadata": {},
   "source": [
    "### Scaling"
   ]
  },
  {
   "cell_type": "code",
   "execution_count": 13,
   "metadata": {},
   "outputs": [],
   "source": [
    "y = np.ravel(y)"
   ]
  },
  {
   "cell_type": "code",
   "execution_count": 14,
   "metadata": {},
   "outputs": [],
   "source": [
    "X = scaler.transform(X)"
   ]
  },
  {
   "cell_type": "markdown",
   "metadata": {},
   "source": [
    "### Prediction"
   ]
  },
  {
   "cell_type": "code",
   "execution_count": 15,
   "metadata": {},
   "outputs": [
    {
     "name": "stdout",
     "output_type": "stream",
     "text": [
      "MSE: 90623395492.85715 \n",
      "MAE: 190436.0 \n",
      "MAPE: 8.073363487123835 \n",
      "R2: 0.9569697084065124\n"
     ]
    },
    {
     "data": {
      "image/png": "[encoded data removed]",
      "text/plain": [
       "<Figure size 720x720 with 3 Axes>"
      ]
     },
     "metadata": {
      "needs_background": "light"
     },
     "output_type": "display_data"
    }
   ],
   "source": [
    "y_concat = mod.Prediction(model, X, y)"
   ]
  },
  {
   "cell_type": "code",
   "execution_count": 16,
   "metadata": {},
   "outputs": [
    {
     "data": {
      "text/html": [
       "<div>\n",
       "<style scoped>\n",
       "    .dataframe tbody tr th:only-of-type {\n",
       "        vertical-align: middle;\n",
       "    }\n",
       "\n",
       "    .dataframe tbody tr th {\n",
       "        vertical-align: top;\n",
       "    }\n",
       "\n",
       "    .dataframe thead th {\n",
       "        text-align: right;\n",
       "    }\n",
       "</style>\n",
       "<table border=\"1\" class=\"dataframe\">\n",
       "  <thead>\n",
       "    <tr style=\"text-align: right;\">\n",
       "      <th></th>\n",
       "      <th>Pris:A(kr):O</th>\n",
       "      <th>Predicted price</th>\n",
       "      <th>Percentage diff</th>\n",
       "    </tr>\n",
       "  </thead>\n",
       "  <tbody>\n",
       "    <tr>\n",
       "      <th>0</th>\n",
       "      <td>1350000.0</td>\n",
       "      <td>1763425.0</td>\n",
       "      <td>23.0</td>\n",
       "    </tr>\n",
       "    <tr>\n",
       "      <th>1</th>\n",
       "      <td>1350000.0</td>\n",
       "      <td>1743050.0</td>\n",
       "      <td>23.0</td>\n",
       "    </tr>\n",
       "    <tr>\n",
       "      <th>2</th>\n",
       "      <td>1320000.0</td>\n",
       "      <td>1274300.0</td>\n",
       "      <td>-4.0</td>\n",
       "    </tr>\n",
       "    <tr>\n",
       "      <th>3</th>\n",
       "      <td>1595000.0</td>\n",
       "      <td>1622305.0</td>\n",
       "      <td>2.0</td>\n",
       "    </tr>\n",
       "    <tr>\n",
       "      <th>4</th>\n",
       "      <td>5950000.0</td>\n",
       "      <td>5053100.0</td>\n",
       "      <td>-18.0</td>\n",
       "    </tr>\n",
       "    <tr>\n",
       "      <th>5</th>\n",
       "      <td>4000000.0</td>\n",
       "      <td>3780130.0</td>\n",
       "      <td>-6.0</td>\n",
       "    </tr>\n",
       "    <tr>\n",
       "      <th>6</th>\n",
       "      <td>1795000.0</td>\n",
       "      <td>1732850.0</td>\n",
       "      <td>-4.0</td>\n",
       "    </tr>\n",
       "    <tr>\n",
       "      <th>7</th>\n",
       "      <td>2195000.0</td>\n",
       "      <td>2134525.0</td>\n",
       "      <td>-3.0</td>\n",
       "    </tr>\n",
       "    <tr>\n",
       "      <th>8</th>\n",
       "      <td>1195000.0</td>\n",
       "      <td>1254675.0</td>\n",
       "      <td>5.0</td>\n",
       "    </tr>\n",
       "    <tr>\n",
       "      <th>9</th>\n",
       "      <td>960000.0</td>\n",
       "      <td>894475.0</td>\n",
       "      <td>-7.0</td>\n",
       "    </tr>\n",
       "    <tr>\n",
       "      <th>10</th>\n",
       "      <td>3170000.0</td>\n",
       "      <td>3128650.0</td>\n",
       "      <td>-1.0</td>\n",
       "    </tr>\n",
       "    <tr>\n",
       "      <th>11</th>\n",
       "      <td>1110000.0</td>\n",
       "      <td>975280.0</td>\n",
       "      <td>-14.0</td>\n",
       "    </tr>\n",
       "    <tr>\n",
       "      <th>12</th>\n",
       "      <td>1150000.0</td>\n",
       "      <td>1185925.0</td>\n",
       "      <td>3.0</td>\n",
       "    </tr>\n",
       "    <tr>\n",
       "      <th>13</th>\n",
       "      <td>2450000.0</td>\n",
       "      <td>2416225.0</td>\n",
       "      <td>-1.0</td>\n",
       "    </tr>\n",
       "    <tr>\n",
       "      <th>14</th>\n",
       "      <td>1205000.0</td>\n",
       "      <td>1205050.0</td>\n",
       "      <td>0.0</td>\n",
       "    </tr>\n",
       "    <tr>\n",
       "      <th>15</th>\n",
       "      <td>1630000.0</td>\n",
       "      <td>1384875.0</td>\n",
       "      <td>-18.0</td>\n",
       "    </tr>\n",
       "    <tr>\n",
       "      <th>16</th>\n",
       "      <td>1270000.0</td>\n",
       "      <td>1232716.0</td>\n",
       "      <td>-3.0</td>\n",
       "    </tr>\n",
       "    <tr>\n",
       "      <th>17</th>\n",
       "      <td>2450000.0</td>\n",
       "      <td>2209738.0</td>\n",
       "      <td>-11.0</td>\n",
       "    </tr>\n",
       "    <tr>\n",
       "      <th>18</th>\n",
       "      <td>2400000.0</td>\n",
       "      <td>2327950.0</td>\n",
       "      <td>-3.0</td>\n",
       "    </tr>\n",
       "    <tr>\n",
       "      <th>19</th>\n",
       "      <td>3800000.0</td>\n",
       "      <td>3609025.0</td>\n",
       "      <td>-5.0</td>\n",
       "    </tr>\n",
       "    <tr>\n",
       "      <th>20</th>\n",
       "      <td>5900000.0</td>\n",
       "      <td>5176435.0</td>\n",
       "      <td>-14.0</td>\n",
       "    </tr>\n",
       "  </tbody>\n",
       "</table>\n",
       "</div>"
      ],
      "text/plain": [
       "    Pris:A(kr):O  Predicted price  Percentage diff\n",
       "0      1350000.0        1763425.0             23.0\n",
       "1      1350000.0        1743050.0             23.0\n",
       "2      1320000.0        1274300.0             -4.0\n",
       "3      1595000.0        1622305.0              2.0\n",
       "4      5950000.0        5053100.0            -18.0\n",
       "5      4000000.0        3780130.0             -6.0\n",
       "6      1795000.0        1732850.0             -4.0\n",
       "7      2195000.0        2134525.0             -3.0\n",
       "8      1195000.0        1254675.0              5.0\n",
       "9       960000.0         894475.0             -7.0\n",
       "10     3170000.0        3128650.0             -1.0\n",
       "11     1110000.0         975280.0            -14.0\n",
       "12     1150000.0        1185925.0              3.0\n",
       "13     2450000.0        2416225.0             -1.0\n",
       "14     1205000.0        1205050.0              0.0\n",
       "15     1630000.0        1384875.0            -18.0\n",
       "16     1270000.0        1232716.0             -3.0\n",
       "17     2450000.0        2209738.0            -11.0\n",
       "18     2400000.0        2327950.0             -3.0\n",
       "19     3800000.0        3609025.0             -5.0\n",
       "20     5900000.0        5176435.0            -14.0"
      ]
     },
     "execution_count": 16,
     "metadata": {},
     "output_type": "execute_result"
    }
   ],
   "source": [
    "y_concat"
   ]
  }
 ],
 "metadata": {
  "kernelspec": {
   "display_name": "Python 3",
   "language": "python",
   "name": "python3"
  },
  "language_info": {
   "codemirror_mode": {
    "name": "ipython",
    "version": 3
   },
   "file_extension": ".py",
   "mimetype": "text/x-python",
   "name": "python",
   "nbconvert_exporter": "python",
   "pygments_lexer": "ipython3",
   "version": "3.8.3"
  },
  "toc": {
   "base_numbering": 1,
   "nav_menu": {},
   "number_sections": true,
   "sideBar": true,
   "skip_h1_title": false,
   "title_cell": "Table of Contents",
   "title_sidebar": "Contents",
   "toc_cell": false,
   "toc_position": {},
   "toc_section_display": true,
   "toc_window_display": false
  }
 },
 "nbformat": 4,
 "nbformat_minor": 4
}
